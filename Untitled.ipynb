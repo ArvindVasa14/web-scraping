{
 "cells": [
  {
   "cell_type": "code",
   "execution_count": 2,
   "id": "12cfac76-c59a-428b-950c-71108276565c",
   "metadata": {},
   "outputs": [],
   "source": [
    "from bs4 import BeautifulSoup\n",
    "import requests"
   ]
  },
  {
   "cell_type": "code",
   "execution_count": 3,
   "id": "f706d3af-4b6e-4a7e-b942-3fb1314ba38d",
   "metadata": {},
   "outputs": [],
   "source": [
    "url= 'https://www.amazon.in/Deco-Mini-Sensitivity-Battery-Free-Customizable/product-reviews/B08GLTSGQ9/ref=cm_cr_dp_d_show_all_btm?ie=UTF8&reviewerType=all_reviews'\n",
    "reviews_page= requests.get(url)\n",
    "review_html_page= BeautifulSoup(reviews_page.content, 'html')"
   ]
  },
  {
   "cell_type": "code",
   "execution_count": 8,
   "id": "27d65f76-82a0-483c-84ba-4387cc7de4e9",
   "metadata": {},
   "outputs": [],
   "source": [
    "reviews_parent= review_html_page.find_all(\"span\", attrs={'data-hook':'review-body'})"
   ]
  },
  {
   "cell_type": "code",
   "execution_count": 14,
   "id": "fc64bf08-6c4d-4e73-b74e-a5ca1f08d2d1",
   "metadata": {},
   "outputs": [
    {
     "name": "stdout",
     "output_type": "stream",
     "text": [
      "\n",
      "XP-PEN Deco mini4It is good at this price point for students as well as teachers. Working area may seem small on paper but it is enough when you start writing.I used it for Photoshop and illustrator too. It works fine there as well.Compatibility - I tested with my Poco X2 (2021) and Lenovo IdeaPad Gaming Laptop (2021) and it works good.Ease of use - If you are a first time user like me, you will get comfortable in just 5 minutes.Responsiveness - works in 1 cm range. Is responive 95% of time.Overall experience - 9.5/10\n",
      "\n",
      "\n",
      "I recently purchased the XP-PEN Deco Mini 7 Graphics Tablet, and I have to say that I am very impressed with this product. The tablet is compact and lightweight, making it easy to carry around with me wherever I go. The build quality is excellent, and it feels durable and sturdy.Setting up the tablet was a breeze. It was very easy to connect to my computer, and the included driver installation was quick and painless. The tablet also comes with a pen that is comfortable to hold and has good weight and balance.The drawing experience on this tablet is fantastic. The tablet's surface is smooth and responsive, and the pressure sensitivity is excellent. It is easy to create fine lines and delicate details, and the tablet's small size makes it perfect for working on smaller projects or for drawing on the go.Overall, I would highly recommend the XP-PEN Deco Mini 7 Graphics Tablet to anyone who is looking for a high-quality graphics tablet at an affordable price. It's perfect for both beginners and professionals, and it is a great option for anyone who needs a tablet that is easy to use and highly portable.\n",
      "\n",
      "\n",
      "I purchased it in oct 2022 till now it is working very goodPros1. Medium= no hand movements pain easy to reach svreen corners also precise movement2. Software is also good for everyone drawing software seperate setting option3. So durable pen for beginners4. 90 deg bend cable is a good detailCons1. In phone, screen orientation issue2. In mobile Cant assign macros or specific shortcut for each button3.in one note we cant switch between hand tool to pen tool(I have to switch to eraser first then hand after again to eraser then pen tool cand jump between pen to hand tool in one note)\n",
      "\n",
      "\n",
      "I bought because XP pen have very robust after sales support. Great for the price.\n",
      "\n",
      "\n",
      "It is my first time using a graphic tablet and it is best for beginners. It can be used to made professional level artworks.\n",
      "\n",
      "\n",
      "Smooth and clear\n",
      "\n",
      "\n",
      "Great  product value for money I brought it mainly because it had that wireless/Bluetooth connectivity option. It’s really convenient as you won’t have the hassle of getting stuck by the wired connection. But unfortunately after a while the power on off switch stopped working I had to plug in the device for charger, then only it will turn on.Called the customer care they told me to send a video they were ready for the replacement but I was lazy to send the product for replacement …now it works but whenever I want to turn it on. I just plug it onto the charger and wait for a while and Ola, it turns on… No other issues. So far.\n",
      "\n",
      "\n",
      "I've been using this for about 6 months. Bought it for 3k. A great entry level drawing tablet for beginners. It can be used on PC as well as mobile devices. I recommend it for digital painting, blender, video editing etc.\n",
      "\n",
      "\n",
      "Very goodWriting experience is very goodSize is decent..If you are doing creative work this the minimum size you can go any size smaller than this will be very difficult to work onSize depends on your work...I use it for 3d sculpting and little bit of drawing.... and some graphic designing work...So it is good for me ....But you are a beginner learning to draw  digitally and work is manly dream so I would suggest to go for bigger size .... If you have budget around 5000 rs as it is a one time investment.Because you can perform complete stocks with sufficient size means you can work very comfortableOtherwise this is the minimum size and can do all works .... If you don't have the budget for bigger size  this is the best\n",
      "\n",
      "\n",
      "Exl leng production\n",
      "\n"
     ]
    }
   ],
   "source": [
    "for text in reviews_parent:\n",
    "    print(text.text)"
   ]
  },
  {
   "cell_type": "code",
   "execution_count": 13,
   "id": "c4ae5ed4-f7a6-40ad-90b2-613f35c1eef0",
   "metadata": {},
   "outputs": [
    {
     "ename": "ImportError",
     "evalue": "cannot import name 'StopWords' from 'nltk.corpus' (C:\\Users\\Arvind Vasa\\anaconda3\\lib\\site-packages\\nltk\\corpus\\__init__.py)",
     "output_type": "error",
     "traceback": [
      "\u001b[1;31m---------------------------------------------------------------------------\u001b[0m",
      "\u001b[1;31mImportError\u001b[0m                               Traceback (most recent call last)",
      "Cell \u001b[1;32mIn[13], line 1\u001b[0m\n\u001b[1;32m----> 1\u001b[0m \u001b[38;5;28;01mfrom\u001b[39;00m \u001b[38;5;21;01mnltk\u001b[39;00m\u001b[38;5;21;01m.\u001b[39;00m\u001b[38;5;21;01mcorpus\u001b[39;00m \u001b[38;5;28;01mimport\u001b[39;00m StopWords\n",
      "\u001b[1;31mImportError\u001b[0m: cannot import name 'StopWords' from 'nltk.corpus' (C:\\Users\\Arvind Vasa\\anaconda3\\lib\\site-packages\\nltk\\corpus\\__init__.py)"
     ]
    }
   ],
   "source": [
    "from nltk.corpus import StopWords"
   ]
  },
  {
   "cell_type": "code",
   "execution_count": null,
   "id": "8a5c781e-451a-4e8e-a51b-6ec4237756d4",
   "metadata": {},
   "outputs": [],
   "source": []
  }
 ],
 "metadata": {
  "kernelspec": {
   "display_name": "Python 3 (ipykernel)",
   "language": "python",
   "name": "python3"
  },
  "language_info": {
   "codemirror_mode": {
    "name": "ipython",
    "version": 3
   },
   "file_extension": ".py",
   "mimetype": "text/x-python",
   "name": "python",
   "nbconvert_exporter": "python",
   "pygments_lexer": "ipython3",
   "version": "3.10.13"
  }
 },
 "nbformat": 4,
 "nbformat_minor": 5
}
